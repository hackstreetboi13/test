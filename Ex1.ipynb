{
  "nbformat": 4,
  "nbformat_minor": 0,
  "metadata": {
    "colab": {
      "provenance": [],
      "gpuType": "T4"
    },
    "kernelspec": {
      "name": "python3",
      "display_name": "Python 3"
    },
    "language_info": {
      "name": "python"
    },
    "accelerator": "GPU"
  },
  "cells": [
    {
      "cell_type": "code",
      "execution_count": 1,
      "metadata": {
        "id": "wDqEE1hcAZ3e"
      },
      "outputs": [],
      "source": [
        "import numpy as np"
      ]
    },
    {
      "cell_type": "code",
      "source": [
        "def sigmoid(x):\n",
        "  return 1/(1+np.exp(-x))\n",
        "\n",
        "class Perceptron():\n",
        "  def __init__(self):\n",
        "    self.weights=None\n",
        "    self.bias=None\n",
        "\n",
        "  def train(self,x,y,lr=0.1,epochs=1000):\n",
        "    num_feat=x.shape[1]\n",
        "    self.weights=np.random.rand(num_feat)\n",
        "    self.bias=np.random.rand()\n",
        "\n",
        "    for _ in range(epochs):\n",
        "      for i in range(x.shape[0]):\n",
        "        pred=self.predict(x[i])\n",
        "        error=y[i]-pred\n",
        "        self.weights+=lr*error*x[i]\n",
        "        self.bias+=lr*error\n",
        "\n",
        "  def predict(self,x):\n",
        "    z=np.dot(self.weights,x)+self.bias\n",
        "    return sigmoid(z)\n"
      ],
      "metadata": {
        "id": "TyLGJdFXXqr-"
      },
      "execution_count": 2,
      "outputs": []
    },
    {
      "cell_type": "code",
      "source": [
        "perct=Perceptron()\n",
        "x=np.array([[0,0],[0,1],[1,0],[1,1]])\n",
        "y_and=np.array([0,0,0,1])\n",
        "y_or=np.array([0,1,1,1])\n",
        "y_nor=np.array([1,0,0,0])\n",
        "y_nand=np.array([1,1,1,0])\n",
        "y_taut=np.array([1,1,1,1])\n",
        "perct.train(x,y_taut)"
      ],
      "metadata": {
        "id": "0j8kT2GeZFsG"
      },
      "execution_count": 10,
      "outputs": []
    },
    {
      "cell_type": "code",
      "source": [
        "print(int(perct.predict([0,0])>=0.5))\n",
        "print(int(perct.predict([1,0])>=0.5))\n",
        "print(int(perct.predict([0,1])>=0.5))\n",
        "print(int(perct.predict([1,1])>=0.5))"
      ],
      "metadata": {
        "colab": {
          "base_uri": "https://localhost:8080/"
        },
        "id": "SBdPoE2rZeTO",
        "outputId": "871ae6df-b27f-4087-a4f0-c3ee46be3f38"
      },
      "execution_count": 11,
      "outputs": [
        {
          "output_type": "stream",
          "name": "stdout",
          "text": [
            "1\n",
            "1\n",
            "1\n",
            "1\n"
          ]
        }
      ]
    },
    {
      "cell_type": "code",
      "source": [],
      "metadata": {
        "id": "YiQQgK3yZkuq"
      },
      "execution_count": null,
      "outputs": []
    }
  ]
}